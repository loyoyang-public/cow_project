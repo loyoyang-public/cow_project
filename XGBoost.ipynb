{
 "cells": [
  {
   "cell_type": "code",
   "execution_count": 38,
   "metadata": {},
   "outputs": [],
   "source": [
    "# XGBoost imports\n",
    "import numpy as np\n",
    "from numpy import loadtxt\n",
    "from xgboost import XGBClassifier\n",
    "from sklearn.model_selection import train_test_split\n",
    "from sklearn.metrics import accuracy_score\n",
    "from sklearn.utils import validation\n",
    "from sklearn import metrics\n",
    "import matplotlib.pyplot as plt"
   ]
  },
  {
   "cell_type": "code",
   "execution_count": 57,
   "metadata": {},
   "outputs": [],
   "source": [
    "# load data\n",
    "alarm_period = 3\n",
    "\n",
    "training_dataset = loadtxt('./cleaned/all_cols_train_win_1.csv', delimiter=\",\")\n",
    "testing_dataset = loadtxt('./cleaned/all_cols_test_win_1.csv', delimiter=\",\")\n",
    "\n",
    "# split data into X and y\n",
    "num_cols = len(training_dataset[0])\n",
    "X_train = training_dataset[:,0:num_cols-5]\n",
    "Y_train = training_dataset[:,num_cols-2:num_cols-1]\n",
    "X_test = testing_dataset[:,0:num_cols-5]\n",
    "Y_test = testing_dataset[:,num_cols-2:num_cols-1]\n",
    "\n",
    "alarm_period_x = []\n",
    "alarm_period_y = []\n",
    "\n",
    "\n"
   ]
  },
  {
   "cell_type": "code",
   "execution_count": null,
   "metadata": {},
   "outputs": [
    {
     "name": "stderr",
     "output_type": "stream",
     "text": [
      "/usr/local/lib/python3.6/site-packages/sklearn/preprocessing/label.py:151: DeprecationWarning: The truth value of an empty array is ambiguous. Returning False, but in future this will result in an error. Use `array.size > 0` to check that an array is not empty.\n",
      "  if diff:\n",
      "/usr/local/lib/python3.6/site-packages/sklearn/preprocessing/label.py:151: DeprecationWarning: The truth value of an empty array is ambiguous. Returning False, but in future this will result in an error. Use `array.size > 0` to check that an array is not empty.\n",
      "  if diff:\n",
      "/usr/local/lib/python3.6/site-packages/sklearn/preprocessing/label.py:151: DeprecationWarning: The truth value of an empty array is ambiguous. Returning False, but in future this will result in an error. Use `array.size > 0` to check that an array is not empty.\n",
      "  if diff:\n"
     ]
    }
   ],
   "source": [
    "################################################################################\n",
    "# \n",
    "# Alarm period testing\n",
    "#\n",
    "################################################################################\n",
    "\n",
    "\n",
    "for i in range (1, 13):\n",
    "    alarm_period = i\n",
    "    Y_train_alarm = np.ravel ([0 if x > alarm_period else 1 for x in Y_train])\n",
    "    Y_test_alarm = np.ravel ([0 if x > alarm_period else 1 for x in Y_test])\n",
    "    model = XGBClassifier()\n",
    "    eval_set = [(X_test, Y_test_alarm)]\n",
    "    model.fit(X_train, Y_train_alarm, early_stopping_rounds=40, eval_metric=\"logloss\", eval_set=eval_set, verbose=False)\n",
    "    Y_pred = model.predict(X_test)\n",
    "    \n",
    "    alarm_period_x.append(alarm_period)\n",
    "    alarm_period_y.append(100.0*accuracy_score(Y_test_alarm, Y_pred))\n",
    "\n",
    "\n",
    "plt.scatter(alarm_period_x, alarm_period_y)\n",
    "plt.title('XGBoost: Alarm Period vs. Accuracy', fontsize=20)\n",
    "plt.xlabel('Alarm Period')\n",
    "plt.ylabel('Accuracy (%)')\n",
    "plt.show()\n"
   ]
  },
  {
   "cell_type": "code",
   "execution_count": null,
   "metadata": {},
   "outputs": [],
   "source": [
    "################################################################################\n",
    "# \n",
    "# Iteration testing\n",
    "#\n",
    "################################################################################\n",
    "iterations_x = []\n",
    "iterations_y = []\n",
    "\n",
    "alarm_period = 3\n",
    "Y_train_alarm = np.ravel ([0 if x > alarm_period else 1 for x in Y_train])\n",
    "Y_test_alarm = np.ravel ([0 if x > alarm_period else 1 for x in Y_test])\n",
    "\n",
    "model = XGBClassifier()\n",
    "eval_set = [(X_train, Y_train_alarm), (X_test, Y_test_alarm)]\n",
    "model.fit(X_train, Y_train_alarm, eval_metric=[\"error\", \"logloss\"], eval_set=eval_set, verbose=False)\n",
    "Y_pred = model.predict(X_test)\n",
    "\n",
    "results = model.evals_result()\n",
    "epochs = len(results['validation_0']['error'])\n",
    "x_axis = range(0, epochs)\n",
    "fig, ax = plt.subplots()\n",
    "ax.plot(x_axis, results['validation_0']['logloss'], label='Train')\n",
    "ax.plot(x_axis, results['validation_1']['logloss'], label='Test')\n",
    "ax.legend()\n",
    "plt.ylabel('Log Loss')\n",
    "plt.title('XGBoost Log Loss')\n",
    "plt.show()\n",
    "\n",
    "# Early Stopping\n",
    "eval_set = [(X_test, Y_test_alarm)]\n",
    "model.fit(X_train, Y_train_alarm, early_stopping_rounds=40, eval_metric=\"logloss\", eval_set=eval_set, verbose=False)\n",
    "Y_pred = model.predict(X_test)\n",
    "\n",
    "print(100.0*accuracy_score(Y_test_alarm, Y_pred))"
   ]
  },
  {
   "cell_type": "code",
   "execution_count": null,
   "metadata": {},
   "outputs": [],
   "source": [
    "################################################################################\n",
    "# \n",
    "# ROC testing\n",
    "#\n",
    "################################################################################\n",
    "\n",
    "\n",
    "# alarm_period = 3\n",
    "# Y_train_alarm = np.ravel ([0 if x > alarm_period else 1 for x in Y_train])\n",
    "# Y_test_alarm = np.ravel ([0 if x > alarm_period else 1 for x in Y_test])\n",
    "# model = XGBClassifier()\n",
    "# model.fit(X_train, Y_train_alarm)\n",
    "# Y_pred = model.predict(X_test)\n",
    "# fpr, tpr, threshold = metrics.roc_curve(Y_test_alarm, Y_pred)\n",
    "# roc_auc = metrics.auc(fpr, tpr)\n",
    "# plt.title('Receiver Operating Characteristic')\n",
    "# plt.plot(fpr, tpr, 'b', label = 'AUC = %0.2f' % roc_auc)\n",
    "# plt.legend(loc = 'lower right')\n",
    "# plt.plot([0, 1], [0, 1],'r--')\n",
    "# plt.ylabel('True Positive Rate')\n",
    "# plt.xlabel('False Positive Rate')"
   ]
  }
 ],
 "metadata": {
  "kernelspec": {
   "display_name": "Python 3",
   "language": "python",
   "name": "python3"
  },
  "language_info": {
   "codemirror_mode": {
    "name": "ipython",
    "version": 3
   },
   "file_extension": ".py",
   "mimetype": "text/x-python",
   "name": "python",
   "nbconvert_exporter": "python",
   "pygments_lexer": "ipython3",
   "version": "3.6.4"
  }
 },
 "nbformat": 4,
 "nbformat_minor": 2
}
