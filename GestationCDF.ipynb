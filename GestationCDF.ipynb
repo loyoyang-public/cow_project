{
 "cells": [
  {
   "cell_type": "code",
   "execution_count": 19,
   "metadata": {},
   "outputs": [
    {
     "name": "stdout",
     "output_type": "stream",
     "text": [
      "[274. 274. 274. 274. 273.]\n",
      "[0.30853754 0.30853754 0.30853754 0.30853754 0.22662735]\n",
      "[271. 271. 271. 271. 271.]\n",
      "[0.10564977 0.10564977 0.10564977 0.10564977 0.10564977]\n"
     ]
    }
   ],
   "source": [
    "# This file generates gestation cdf from files 'all_cols_train_win_1.csv' and\n",
    "# 'all_cols_test_win_1.csv'\n",
    "# Author: Luna Xia \n",
    "\n",
    "import numpy as np\n",
    "from scipy.stats import norm\n",
    "trn1 = np.genfromtxt('all_cols_train_win_1.csv', delimiter=',') \n",
    "tst1 = np.genfromtxt('all_cols_test_win_1.csv', delimiter=',') \n",
    "gest_trn1 = trn1[:,6]\n",
    "gest_tst1 = tst1[:,6]\n",
    "trn1_cdf = norm.cdf(gest_trn1,276,4)\n",
    "tst1_cdf = norm.cdf(gest_tst1,276,4)\n",
    "np.savetxt(\"trn_win1_gestcdf.csv\", trn1_cdf, fmt='%.3f', delimiter=\",\")\n",
    "np.savetxt(\"tst_win1_gestcdf.csv\", tst1_cdf, fmt='%.3f', delimiter=\",\")"
   ]
  }
 ],
 "metadata": {
  "kernelspec": {
   "display_name": "Python 3",
   "language": "python",
   "name": "python3"
  },
  "language_info": {
   "codemirror_mode": {
    "name": "ipython",
    "version": 3
   },
   "file_extension": ".py",
   "mimetype": "text/x-python",
   "name": "python",
   "nbconvert_exporter": "python",
   "pygments_lexer": "ipython3",
   "version": "3.6.1"
  }
 },
 "nbformat": 4,
 "nbformat_minor": 2
}
